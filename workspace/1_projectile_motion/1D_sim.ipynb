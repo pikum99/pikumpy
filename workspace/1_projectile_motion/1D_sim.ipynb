{
 "cells": [
  {
   "cell_type": "code",
   "execution_count": 7,
   "metadata": {},
   "outputs": [],
   "source": [
    "import numpy as np\n",
    "import math\n",
    "import pandas as pd\n",
    "import matplotlib.pyplot as plt"
   ]
  },
  {
   "cell_type": "markdown",
   "metadata": {
    "tags": []
   },
   "source": [
    "## 初期値\n",
    "v0: 初速度  \n",
    "g: 重力加速度(地球)  \n",
    "g1: 重力加速度(月)  \n",
    "theta: 入射角度  "
   ]
  },
  {
   "cell_type": "code",
   "execution_count": 8,
   "metadata": {},
   "outputs": [],
   "source": [
    "v0 = 10\n",
    "g = 9.8\n",
    "g1 = 9.8/6\n",
    "theta = 30/180*np.pi"
   ]
  },
  {
   "cell_type": "markdown",
   "metadata": {},
   "source": [
    "## 条件式\n",
    "\n",
    "t_end: 物体が地面につく時間  \n",
    "t: 物体が発射されてから地面に着くまでの時間を刻んだもの  \n",
    "y: 高さ\n",
    "x: 距離"
   ]
  },
  {
   "cell_type": "code",
   "execution_count": 9,
   "metadata": {},
   "outputs": [],
   "source": [
    "t_end = 2*v0*np.sin(theta)/g1\n",
    "t = np.arange(0., t_end, 0.1)\n",
    "\n",
    "y = -g*t**2/2 + v0*t*np.sin(theta)\n",
    "x = v0*t*np.cos(theta)\n",
    "\n",
    "y1 = -g/6*t**2/2 + v0*t*np.sin(theta)\n",
    "x1 = v0*t*np.cos(theta)\n",
    "\n",
    "# デバッグ用\n",
    "# print(y)\n",
    "# print(x)"
   ]
  },
  {
   "cell_type": "markdown",
   "metadata": {},
   "source": [
    "### 計算式"
   ]
  },
  {
   "cell_type": "code",
   "execution_count": 10,
   "metadata": {},
   "outputs": [],
   "source": [
    "fp = open('./datum/data.txt','w')\n",
    "#print(len(y))\n",
    "for i in range(0,len(y),1):\n",
    "    fp.write(str(t[i])+'\\t'+str(x[i])+'\\t'+str(y[i])+'\\t'+str(x1[i])+'\\t'+str(y1[i])+'\\n')\n",
    "fp.close()"
   ]
  },
  {
   "cell_type": "markdown",
   "metadata": {},
   "source": [
    "### 可視化"
   ]
  },
  {
   "cell_type": "code",
   "execution_count": 11,
   "metadata": {},
   "outputs": [
    {
     "data": {
      "image/png": "[encoded data removed]",
      "text/plain": [
       "<Figure size 432x288 with 1 Axes>"
      ]
     },
     "metadata": {
      "needs_background": "light"
     },
     "output_type": "display_data"
    }
   ],
   "source": [
    "data = pd.read_csv('./datum/data.txt',delimiter='\\t',encoding=\"UTF-8\",\n",
    "                 skiprows=1, \n",
    "                 names=['t','x','y','x1','y1'],\n",
    "                 header=None)\n",
    "\n",
    "#plt.plot(x[1],y[1], 'o')\n",
    "plt.xlim(np.min(x1), np.max(x1))\n",
    "plt.ylim(np.min(y1), np.max(y1))\n",
    "for i in range(0,len(t),1):\n",
    "    plt.plot(x[i],y[i], 'o')\n",
    "    plt.plot(x1[i],y1[i], 'o')\n",
    "    plt.title(\" t= \"+str(t[i]))\n",
    "    plt.savefig(\"./fig/figure\"+str(i)+\".png\")"
   ]
  }
 ],
 "metadata": {
  "kernelspec": {
   "display_name": "Python 3 (ipykernel)",
   "language": "python",
   "name": "python3"
  },
  "language_info": {
   "codemirror_mode": {
    "name": "ipython",
    "version": 3
   },
   "file_extension": ".py",
   "mimetype": "text/x-python",
   "name": "python",
   "nbconvert_exporter": "python",
   "pygments_lexer": "ipython3",
   "version": "3.9.12"
  }
 },
 "nbformat": 4,
 "nbformat_minor": 4
}
