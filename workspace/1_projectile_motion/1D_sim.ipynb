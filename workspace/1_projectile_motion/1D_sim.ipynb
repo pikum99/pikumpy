{
 "cells": [
  {
   "cell_type": "code",
   "execution_count": 70,
   "metadata": {},
   "outputs": [],
   "source": [
    "import numpy as np\n",
    "import math\n",
    "import pandas as pd\n",
    "import matplotlib.pyplot as plt\n",
    "import os\n",
    "from PIL import Image, ImageDraw\n",
    "from io import BytesIO\n",
    "import glob\n",
    "import seaborn as sns\n",
    "sns.set_style(\"whitegrid\", {'grid.linestyle': '--'})"
   ]
  },
  {
   "cell_type": "markdown",
   "metadata": {
    "tags": []
   },
   "source": [
    "## 初期値\n",
    "v0: 初速度  \n",
    "g: 重力加速度(地球)  \n",
    "g1: 重力加速度(月)  \n",
    "theta: 入射角度  "
   ]
  },
  {
   "cell_type": "code",
   "execution_count": 13,
   "metadata": {},
   "outputs": [],
   "source": [
    "v0 = 10\n",
    "g = 9.8\n",
    "g1 = 9.8/6\n",
    "theta = 30/180*np.pi"
   ]
  },
  {
   "cell_type": "markdown",
   "metadata": {},
   "source": [
    "## 条件式\n",
    "\n",
    "t_end: 物体が地面につく時間  \n",
    "t: 物体が発射されてから地面に着くまでの時間を刻んだもの  \n",
    "y: 高さ\n",
    "x: 距離"
   ]
  },
  {
   "cell_type": "code",
   "execution_count": 14,
   "metadata": {},
   "outputs": [],
   "source": [
    "t_end = 2*v0*np.sin(theta)/g1\n",
    "t = np.arange(0., t_end, 0.1)\n",
    "\n",
    "y = -g*t**2/2 + v0*t*np.sin(theta)\n",
    "x = v0*t*np.cos(theta)\n",
    "\n",
    "y1 = -g/6*t**2/2 + v0*t*np.sin(theta)\n",
    "x1 = v0*t*np.cos(theta)\n",
    "\n",
    "# デバッグ用\n",
    "# print(y)\n",
    "# print(x)"
   ]
  },
  {
   "cell_type": "markdown",
   "metadata": {},
   "source": [
    "### 計算式"
   ]
  },
  {
   "cell_type": "code",
   "execution_count": 54,
   "metadata": {},
   "outputs": [],
   "source": [
    "# 出力フォルダがなければ作成\n",
    "dir = './datum/'\n",
    "if not os.path.exists(dir):\n",
    "    os.makedirs(dir)\n",
    "\n",
    "# 書き出し\n",
    "fp = open('./datum/data.txt','w')\n",
    "for i in range(0,len(y),1):\n",
    "    fp.write(str(round(t[i], 2))+'\\t'+str(x[i])+'\\t'+str(y[i])+'\\t'+str(x1[i])+'\\t'+str(y1[i])+'\\n')\n",
    "fp.close()"
   ]
  },
  {
   "cell_type": "markdown",
   "metadata": {},
   "source": [
    "### 可視化"
   ]
  },
  {
   "cell_type": "code",
   "execution_count": 89,
   "metadata": {},
   "outputs": [
    {
     "data": {
      "image/png": "[encoded data removed]",
      "text/plain": [
       "<Figure size 432x288 with 1 Axes>"
      ]
     },
     "metadata": {},
     "output_type": "display_data"
    }
   ],
   "source": [
    "# 書き出したデータの読み込み\n",
    "data = pd.read_csv('./datum/data.txt',delimiter='\\t',encoding=\"UTF-8\",\n",
    "                 skiprows=1, \n",
    "                 names=['t','x','y','x1','y1'],\n",
    "                 header=None)\n",
    "\n",
    "# 出力フォルダがなければ作成\n",
    "dir = './fig/'\n",
    "if not os.path.exists(dir):\n",
    "    os.makedirs(dir)\n",
    "\n",
    "# 毎秒ごとにプロット\n",
    "plt.xlim(np.min(x1), math.ceil(np.max(x1) / 10) * 10)\n",
    "plt.ylim(np.min(y1), math.ceil(np.max(y1)))\n",
    "\n",
    "for index, i in enumerate(range(0,len(t),1)):\n",
    "    if index == 0:\n",
    "        plt.plot(x[i],y[i], 'o', color = \"red\", label = \"Earth\")\n",
    "        plt.plot(x1[i],y1[i], 'o', color = \"blue\", label = \"Moon\")\n",
    "        plt.legend(loc='upper right')\n",
    "        plt.xlabel(\"$\\it{distance}$ [m]\", fontsize=17)\n",
    "        plt.ylabel(\"$\\it{Height}$  [m]\", fontsize=17)\n",
    "    else:\n",
    "        plt.plot(x[i],y[i], 'o', color = \"red\")\n",
    "        plt.plot(x1[i],y1[i], 'o', color = \"blue\")\n",
    "    plt.xticks(fontsize=16)\n",
    "    plt.yticks(fontsize=16)\n",
    "    plt.title(\" $\\it{t}$= \"+str(round(t[i], 2))+ \"[s]\", fontsize=15)\n",
    "    plt.savefig(\"./fig/figure\"+str(i).zfill(4)+\".png\")"
   ]
  },
  {
   "cell_type": "markdown",
   "metadata": {},
   "source": [
    "## gifファイルの作成"
   ]
  },
  {
   "cell_type": "code",
   "execution_count": 56,
   "metadata": {},
   "outputs": [],
   "source": [
    "files = glob.glob(\"./fig/*\")\n",
    "img_list = []\n",
    "for file in files:\n",
    "    img = Image.open(file)\n",
    "    img_list.append(img)\n",
    "img_list[0].save('projectile_motion.gif',\n",
    "               save_all=True, append_images=img_list[1:], optimize=False, duration=500, loop=0)"
   ]
  },
  {
   "cell_type": "code",
   "execution_count": null,
   "metadata": {},
   "outputs": [],
   "source": []
  }
 ],
 "metadata": {
  "kernelspec": {
   "display_name": "Python 3 (ipykernel)",
   "language": "python",
   "name": "python3"
  },
  "language_info": {
   "codemirror_mode": {
    "name": "ipython",
    "version": 3
   },
   "file_extension": ".py",
   "mimetype": "text/x-python",
   "name": "python",
   "nbconvert_exporter": "python",
   "pygments_lexer": "ipython3",
   "version": "3.9.12"
  }
 },
 "nbformat": 4,
 "nbformat_minor": 4
}
